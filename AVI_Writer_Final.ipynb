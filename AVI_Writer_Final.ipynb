{
  "nbformat": 4,
  "nbformat_minor": 0,
  "metadata": {
    "colab": {
      "name": "AVI_Writer_Final.ipynb",
      "provenance": [],
      "authorship_tag": "ABX9TyPWZSYex4A3d0/0BqOG7ApS",
      "include_colab_link": true
    },
    "kernelspec": {
      "name": "python3",
      "display_name": "Python 3"
    }
  },
  "cells": [
    {
      "cell_type": "markdown",
      "metadata": {
        "id": "view-in-github",
        "colab_type": "text"
      },
      "source": [
        "<a href=\"https://colab.research.google.com/github/mbenedict1822/Neuro_140_Final_Project/blob/master/AVI_Writer_Final.ipynb\" target=\"_parent\"><img src=\"https://colab.research.google.com/assets/colab-badge.svg\" alt=\"Open In Colab\"/></a>"
      ]
    },
    {
      "cell_type": "code",
      "metadata": {
        "id": "zw4w8qHAI2lV",
        "colab_type": "code",
        "colab": {}
      },
      "source": [
        "!pip3 install opencv-python"
      ],
      "execution_count": 0,
      "outputs": []
    },
    {
      "cell_type": "code",
      "metadata": {
        "id": "U5x9gZ8iI-HX",
        "colab_type": "code",
        "colab": {}
      },
      "source": [
        "import cv2\n",
        "import numpy as np\n",
        "import os\n",
        "from os.path import isfile, join\n",
        "\n",
        "# painIn = where images come from, pathOut = where AVI is saved, SET BEFORE RUNNING\n",
        "pathIn= 'drive/My Drive/Neuro140/VGGFacePics/'\n",
        "pathOut = 'drive/My Drive/Neuro140/VGGFacePics/video.avi'\n",
        "\n",
        "# fps = frames per second, SET BEFORE RUNNING\n",
        "fps = 2\n",
        "frame_array = []\n",
        "files = [f for f in os.listdir(pathIn) if isfile(join(pathIn, f))]\n",
        "for i in range(len(files)):\n",
        "    filename=pathIn + files[i]\n",
        "    #reading each files\n",
        "    img = cv2.imread(filename)\n",
        "    height, width, layers = img.shape\n",
        "    size = (width,height)\n",
        "    \n",
        "    #inserting the frames into an image array\n",
        "    frame_array.append(img)\n",
        "out = cv2.VideoWriter(pathOut,cv2.VideoWriter_fourcc(*'DIVX'), fps, size)\n",
        "for i in range(len(frame_array)):\n",
        "    # writing to a image array\n",
        "    out.write(frame_array[i])\n",
        "out.release()"
      ],
      "execution_count": 0,
      "outputs": []
    }
  ]
}