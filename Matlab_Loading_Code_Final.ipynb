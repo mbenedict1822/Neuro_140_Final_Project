{
  "nbformat": 4,
  "nbformat_minor": 0,
  "metadata": {
    "colab": {
      "name": "Matlab_Loading_Code_Final.ipynb",
      "provenance": [],
      "mount_file_id": "1sH31JtjrtoAXrdT4F0m3PLu1EAB64X6c",
      "authorship_tag": "ABX9TyO+Con/agQJiiGVqJWQI8b4",
      "include_colab_link": true
    },
    "kernelspec": {
      "name": "python3",
      "display_name": "Python 3"
    },
    "accelerator": "TPU"
  },
  "cells": [
    {
      "cell_type": "markdown",
      "metadata": {
        "id": "view-in-github",
        "colab_type": "text"
      },
      "source": [
        "<a href=\"https://colab.research.google.com/github/mbenedict1822/Neuro_140_Final_Project/blob/master/Matlab_Loading_Code_Final.ipynb\" target=\"_parent\"><img src=\"https://colab.research.google.com/assets/colab-badge.svg\" alt=\"Open In Colab\"/></a>"
      ]
    },
    {
      "cell_type": "code",
      "metadata": {
        "id": "xpS3TBZH3G81",
        "colab_type": "code",
        "colab": {}
      },
      "source": [
        "from scipy import io\n",
        "import numpy"
      ],
      "execution_count": 0,
      "outputs": []
    },
    {
      "cell_type": "code",
      "metadata": {
        "id": "85_iXgbx1rLq",
        "colab_type": "code",
        "colab": {}
      },
      "source": [
        "# Loading only face data\n",
        "subjects = ['KO', 'SN', 'TI']\n",
        "areas = [0, 1, 4, 5]\n",
        "areanames = ['leftFFA', 'rightFFA', 'leftPPA', 'rightPPA']\n",
        "for i in range(len(subjects)):\n",
        "  # INPUT LOCATION OF FILES\n",
        "  test = io.loadmat('drive/My Drive/Neuro140/%s_ordered_data.mat'%subjects[i])\n",
        "  testname = '%s_ordered_data'%subjects[i]\n",
        "  test = test[testname]\n",
        "  for j in range(len(areas)):\n",
        "    newmatrix = 1-numpy.corrcoef(test[0][areas[j]])\n",
        "    # INPUT SAVE LOCATION\n",
        "    filename = 'drive/My Drive/Neuro140/%s%s.npy'%(subjects[i], areanames[j])\n",
        "    numpy.save(filename, newmatrix)"
      ],
      "execution_count": 0,
      "outputs": []
    },
    {
      "cell_type": "code",
      "metadata": {
        "id": "wcDumGQhLYKq",
        "colab_type": "code",
        "colab": {}
      },
      "source": [
        "# Loading all simulus data\n",
        "subjects = ['KO', 'SN', 'TI']\n",
        "areas = [0, 1, 4, 5]\n",
        "areanames = ['leftFFA', 'rightFFA', 'leftPPA', 'rightPPA']\n",
        "for i in range(len(subjects)):\n",
        "  # INPUT LOCATION OF FILES\n",
        "  test = io.loadmat('drive/My Drive/Neuro140/%s_full_data.mat'%subjects[i])\n",
        "  testname = 'roi_data'\n",
        "  test = test[testname]\n",
        "  for j in range(len(areas)):\n",
        "    newmatrix = 1-numpy.corrcoef(test[0][areas[j]])\n",
        "    # INPUT SAVE LOCATION\n",
        "    filename = 'drive/My Drive/Neuro140/%s%s92.npy'%(subjects[i], areanames[j])\n",
        "    numpy.save(filename, newmatrix)"
      ],
      "execution_count": 0,
      "outputs": []
    }
  ]
}
